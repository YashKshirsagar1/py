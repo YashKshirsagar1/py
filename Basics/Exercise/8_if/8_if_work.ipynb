{
 "cells": [
  {
   "cell_type": "code",
   "execution_count": null,
   "metadata": {},
   "outputs": [
    {
     "name": "stdout",
     "output_type": "stream",
     "text": [
      "mumbai is in India!\n"
     ]
    }
   ],
   "source": [
    "india = [\"mumbai\", \"banglore\", \"chennai\", \"delhi\"]\n",
    "pakistan = [\"lahore\",\"karachi\",\"islamabad\"]\n",
    "bangladesh = [\"dhaka\", \"khulna\", \"rangpur\"]\n",
    "city_name = input(\"What is your city?\")\n",
    "for i in range(0, 4):\n",
    "    if city_name == india[i]:\n",
    "        print(f\"{city_name} is in India!\")\n",
    "        break\n",
    "    elif city_name == pakistan[i]:\n",
    "        print(f\"{city_name} is in Pakistan!\")\n",
    "        break\n",
    "    elif city_name == bangladesh[i]:\n",
    "        print(f\"{city_name} is in Bangladesh!\")\n",
    "        break\n",
    "    else:\n",
    "        print(\"I don't know where your city is!\")\n",
    "        break\n",
    "\n"
   ]
  },
  {
   "cell_type": "code",
   "execution_count": 5,
   "metadata": {},
   "outputs": [
    {
     "name": "stdout",
     "output_type": "stream",
     "text": [
      "Both cities are in India\n"
     ]
    }
   ],
   "source": [
    "india = [\"mumbai\", \"banglore\", \"chennai\", \"delhi\"]\n",
    "pakistan = [\"lahore\",\"karachi\",\"islamabad\"]\n",
    "bangladesh = [\"dhaka\", \"khulna\", \"rangpur\"]\n",
    "first_city = input(\"Name one city\")\n",
    "second_city = input(\"Name another city\")\n",
    "if (first_city in india and second_city in india):\n",
    "    print(\"Both cities are in India\")\n",
    "elif (first_city in pakistan and second_city in pakistan):\n",
    "    print(\"Both cities are in Pakistan\")\n",
    "elif (first_city in bangladesh and second_city in bangladesh):\n",
    "    print(\"Both cities are in Bangladesh\")\n",
    "else: \n",
    "    print(\"They don't belong to same country\")"
   ]
  },
  {
   "cell_type": "code",
   "execution_count": 7,
   "metadata": {},
   "outputs": [
    {
     "name": "stdout",
     "output_type": "stream",
     "text": [
      "Your sugar is normal\n"
     ]
    }
   ],
   "source": [
    "sugar_level = int(input(\"Enter fasting sugar level\"))\n",
    "if sugar_level < 80:\n",
    "    print(\"Your sugar is low\")\n",
    "elif sugar_level > 100:\n",
    "    print(\"Your sugar is high\")\n",
    "else:\n",
    "    print(\"Your sugar is normal\")"
   ]
  }
 ],
 "metadata": {
  "kernelspec": {
   "display_name": "Python 3",
   "language": "python",
   "name": "python3"
  },
  "language_info": {
   "codemirror_mode": {
    "name": "ipython",
    "version": 3
   },
   "file_extension": ".py",
   "mimetype": "text/x-python",
   "name": "python",
   "nbconvert_exporter": "python",
   "pygments_lexer": "ipython3",
   "version": "3.12.1"
  }
 },
 "nbformat": 4,
 "nbformat_minor": 2
}
