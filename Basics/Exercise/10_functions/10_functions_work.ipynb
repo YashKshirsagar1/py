{
 "cells": [
  {
   "cell_type": "code",
   "execution_count": null,
   "metadata": {},
   "outputs": [
    {
     "data": {
      "text/plain": [
       "10.0"
      ]
     },
     "execution_count": 3,
     "metadata": {},
     "output_type": "execute_result"
    }
   ],
   "source": [
    "def calculate_area(base, height, shape_type = \"triangle\"):\n",
    "    if shape_type == \"rectangle\":\n",
    "        area = base*height\n",
    "    else:\n",
    "        area = (1/2)*base*height\n",
    "    return area\n",
    "calculate_area(5, 4)"
   ]
  },
  {
   "cell_type": "code",
   "execution_count": 8,
   "metadata": {},
   "outputs": [
    {
     "name": "stdout",
     "output_type": "stream",
     "text": [
      "*\n",
      "**\n",
      "***\n",
      "****\n"
     ]
    }
   ],
   "source": [
    "def print_pattern(line_number):\n",
    "    for i in range(1, line_number+1):\n",
    "        s = \"\"\n",
    "        for j in range(i):\n",
    "            s += \"*\"\n",
    "        print(s)\n",
    "\n",
    "print_pattern(4) \n"
   ]
  }
 ],
 "metadata": {
  "kernelspec": {
   "display_name": "Python 3",
   "language": "python",
   "name": "python3"
  },
  "language_info": {
   "codemirror_mode": {
    "name": "ipython",
    "version": 3
   },
   "file_extension": ".py",
   "mimetype": "text/x-python",
   "name": "python",
   "nbconvert_exporter": "python",
   "pygments_lexer": "ipython3",
   "version": "3.12.1"
  }
 },
 "nbformat": 4,
 "nbformat_minor": 2
}
