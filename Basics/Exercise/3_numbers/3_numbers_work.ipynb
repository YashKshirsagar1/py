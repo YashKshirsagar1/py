{
 "cells": [
  {
   "cell_type": "code",
   "execution_count": 1,
   "metadata": {},
   "outputs": [
    {
     "name": "stdout",
     "output_type": "stream",
     "text": [
      "area of football field: 4489.599999999999\n"
     ]
    }
   ],
   "source": [
    "length=92\n",
    "width=48.8\n",
    "area=length*width\n",
    "print(\"area of football field:\",area) "
   ]
  },
  {
   "cell_type": "code",
   "execution_count": 2,
   "metadata": {},
   "outputs": [
    {
     "name": "stdout",
     "output_type": "stream",
     "text": [
      "Cash back: 6.59\n"
     ]
    }
   ],
   "source": [
    "num_packets=9\n",
    "cost_per_packet=1.49\n",
    "total_cost=num_packets*cost_per_packet\n",
    "money_paid=20\n",
    "cash_back=money_paid-total_cost\n",
    "print(\"Cash back:\",cash_back) "
   ]
  },
  {
   "cell_type": "code",
   "execution_count": 7,
   "metadata": {},
   "outputs": [
    {
     "name": "stdout",
     "output_type": "stream",
     "text": [
      "Total cost is:  15125.0\n"
     ]
    }
   ],
   "source": [
    "room_length = 5.5\n",
    "room_area = room_length**2\n",
    "cost_per_square_feet = 500\n",
    "total_cost = cost_per_square_feet*room_area\n",
    "print(\"Total cost is: \", total_cost)"
   ]
  },
  {
   "cell_type": "code",
   "execution_count": 8,
   "metadata": {},
   "outputs": [
    {
     "name": "stdout",
     "output_type": "stream",
     "text": [
      "Binary of number 17 is: 10001\n"
     ]
    }
   ],
   "source": [
    "num=17\n",
    "print('Binary of number 17 is:',format(num,'b'))"
   ]
  }
 ],
 "metadata": {
  "kernelspec": {
   "display_name": "Python 3",
   "language": "python",
   "name": "python3"
  },
  "language_info": {
   "codemirror_mode": {
    "name": "ipython",
    "version": 3
   },
   "file_extension": ".py",
   "mimetype": "text/x-python",
   "name": "python",
   "nbconvert_exporter": "python",
   "pygments_lexer": "ipython3",
   "version": "3.12.1"
  }
 },
 "nbformat": 4,
 "nbformat_minor": 2
}
