{
 "cells": [
  {
   "cell_type": "code",
   "execution_count": 8,
   "metadata": {},
   "outputs": [
    {
     "name": "stdout",
     "output_type": "stream",
     "text": [
      "908 Cambridge UK\n",
      "908 Cambridge UK\n",
      "908 \n",
      "Cambridge \n",
      "UK\n"
     ]
    }
   ],
   "source": [
    "street = \"908\"\n",
    "city = \"Cambridge\"\n",
    "country = \"UK\"\n",
    "address = street + \" \" + city + \" \" + country\n",
    "print(address)\n",
    "address2 = (f\"{street} {city} {country}\")\n",
    "print(address2)\n",
    "address3 = (f\"{street} \\n{city} \\n{country}\")\n",
    "print(address3)"
   ]
  },
  {
   "cell_type": "code",
   "execution_count": 20,
   "metadata": {},
   "outputs": [
    {
     "name": "stdout",
     "output_type": "stream",
     "text": [
      "revolves\n",
      "sun\n"
     ]
    }
   ],
   "source": [
    "example = \"Earth revolves around the sun\"\n",
    "print(example[6:14])\n",
    "print(example[-3:])"
   ]
  },
  {
   "cell_type": "code",
   "execution_count": 21,
   "metadata": {},
   "outputs": [
    {
     "name": "stdout",
     "output_type": "stream",
     "text": [
      "I eat 9 veggies and 2 fruits daily\n"
     ]
    }
   ],
   "source": [
    "veggies = 9\n",
    "fruits = 2\n",
    "print(f\"I eat {veggies} veggies and {fruits} fruits daily\")"
   ]
  },
  {
   "cell_type": "code",
   "execution_count": 23,
   "metadata": {},
   "outputs": [
    {
     "name": "stdout",
     "output_type": "stream",
     "text": [
      "maine 10 samosa khaye\n"
     ]
    }
   ],
   "source": [
    "s='maine 200 banana khaye'\n",
    "s = s.replace(\"200\", \"10\").replace(\"banana\", \"samosa\")\n",
    "print(s)"
   ]
  }
 ],
 "metadata": {
  "kernelspec": {
   "display_name": "Python 3",
   "language": "python",
   "name": "python3"
  },
  "language_info": {
   "codemirror_mode": {
    "name": "ipython",
    "version": 3
   },
   "file_extension": ".py",
   "mimetype": "text/x-python",
   "name": "python",
   "nbconvert_exporter": "python",
   "pygments_lexer": "ipython3",
   "version": "3.12.1"
  }
 },
 "nbformat": 4,
 "nbformat_minor": 2
}
