{
 "cells": [
  {
   "cell_type": "code",
   "execution_count": null,
   "metadata": {},
   "outputs": [
    {
     "name": "stdout",
     "output_type": "stream",
     "text": [
      "4\n"
     ]
    }
   ],
   "source": [
    "result = [\"heads\",\"tails\",\"tails\",\"heads\",\"tails\",\"heads\",\"heads\",\"tails\",\"tails\",\"tails\"]\n",
    "count_of_heads = 0\n",
    "for i in result:\n",
    "    if i == \"heads\":\n",
    "        count_of_heads = count_of_heads + 1\n",
    "    else:\n",
    "        continue\n",
    "print(count_of_heads)"
   ]
  },
  {
   "cell_type": "code",
   "execution_count": 2,
   "metadata": {},
   "outputs": [
    {
     "name": "stdout",
     "output_type": "stream",
     "text": [
      "1\n",
      "9\n",
      "25\n",
      "49\n",
      "81\n"
     ]
    }
   ],
   "source": [
    "for i in range(1, 11):\n",
    "    if i%2 != 0:\n",
    "        print(i**2)\n",
    "    else:\n",
    "        continue"
   ]
  },
  {
   "cell_type": "code",
   "execution_count": 9,
   "metadata": {},
   "outputs": [
    {
     "name": "stdout",
     "output_type": "stream",
     "text": [
      "In month 1 this expense occurred.\n"
     ]
    }
   ],
   "source": [
    "expense_list = [2340, 2500, 2100, 3100, 2980]\n",
    "expense_amount = int(input(\"Name an expense amount\"))\n",
    "expense_found = False\n",
    "for i in expense_list:\n",
    "    if i == expense_amount:\n",
    "        print(f\"In month {expense_list.index(i)+1} this expense occurred.\")\n",
    "        expense_found = True\n",
    "        break\n",
    "    else:\n",
    "        continue\n",
    "if expense_found == False:\n",
    "    print(\"Expense not found.\")\n"
   ]
  },
  {
   "cell_type": "code",
   "execution_count": 11,
   "metadata": {},
   "outputs": [
    {
     "name": "stdout",
     "output_type": "stream",
     "text": [
      "Congrats! You finished\n"
     ]
    }
   ],
   "source": [
    "finish_race = False\n",
    "for i in range(1, 6):\n",
    "    tired = input(\"Are you tired?\")\n",
    "    if tired == \"yes\":\n",
    "        print(\"You didn't finish the race\")\n",
    "        break\n",
    "    else:\n",
    "        finish_race = True\n",
    "        continue\n",
    "if finish_race == True:\n",
    "    print(\"Congrats! You finished\")"
   ]
  },
  {
   "cell_type": "code",
   "execution_count": 18,
   "metadata": {},
   "outputs": [
    {
     "name": "stdout",
     "output_type": "stream",
     "text": [
      "```\n",
      "*\n",
      "**\n",
      "***\n",
      "****\n",
      "*****\n",
      "```\n"
     ]
    }
   ],
   "source": [
    "print(\"```\")\n",
    "for i in range(1, 6):\n",
    "    s = \"\"\n",
    "    for j in range(i):\n",
    "        s += \"*\"\n",
    "    print(s)\n",
    "print(\"```\")"
   ]
  }
 ],
 "metadata": {
  "kernelspec": {
   "display_name": "Python 3",
   "language": "python",
   "name": "python3"
  },
  "language_info": {
   "codemirror_mode": {
    "name": "ipython",
    "version": 3
   },
   "file_extension": ".py",
   "mimetype": "text/x-python",
   "name": "python",
   "nbconvert_exporter": "python",
   "pygments_lexer": "ipython3",
   "version": "3.12.1"
  }
 },
 "nbformat": 4,
 "nbformat_minor": 2
}
