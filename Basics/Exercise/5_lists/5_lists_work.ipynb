{
 "cells": [
  {
   "cell_type": "code",
   "execution_count": 12,
   "metadata": {},
   "outputs": [
    {
     "name": "stdout",
     "output_type": "stream",
     "text": [
      "150\n",
      "7150\n",
      "[2200, 2350, 2600, 2130, 2190, 1980]\n",
      "[2200, 2350, 2600, 1930, 2190, 1980]\n"
     ]
    }
   ],
   "source": [
    "monthly_expenses = [2200, 2350, 2600, 2130, 2190]\n",
    "extra_in_feb = monthly_expenses[1] - monthly_expenses[0]\n",
    "print(extra_in_feb)\n",
    "first_quarter_expense = monthly_expenses[0] + monthly_expenses[1] + monthly_expenses[2]\n",
    "print(first_quarter_expense)\n",
    "for i in monthly_expenses:\n",
    "    if i == 2000:\n",
    "        print(f\"In month {monthly_expenses.index(i)+1}, expense was 2000\")\n",
    "    else:\n",
    "        continue\n",
    "monthly_expenses.append(1980)\n",
    "print(monthly_expenses)\n",
    "new_April_cost = monthly_expenses[3] - 200\n",
    "monthly_expenses[3] = new_April_cost\n",
    "print(monthly_expenses)"
   ]
  },
  {
   "cell_type": "code",
   "execution_count": 28,
   "metadata": {},
   "outputs": [
    {
     "name": "stdout",
     "output_type": "stream",
     "text": [
      "5\n",
      "['spider man', 'thor', 'hulk', 'iron man', 'captain america', 'black panther']\n",
      "['spider man', 'thor', 'hulk', 'iron man', 'captain america']\n",
      "['spider man', 'thor', 'hulk', 'black panther', 'iron man', 'captain america']\n",
      "['spider man', 'doctor strange', 'black panther', 'iron man', 'captain america']\n",
      "['black panther', 'captain america', 'doctor strange', 'iron man', 'spider man']\n"
     ]
    }
   ],
   "source": [
    "heros=['spider man','thor','hulk','iron man','captain america']\n",
    "print(len(heros))\n",
    "heros.append(\"black panther\")\n",
    "print(heros)\n",
    "heros.remove(\"black panther\")\n",
    "print(heros)\n",
    "heros.insert(3, \"black panther\")\n",
    "print(heros)\n",
    "heros[1:3] = [\"doctor strange\"]\n",
    "print(heros)\n",
    "heros.sort()\n",
    "print(heros)"
   ]
  }
 ],
 "metadata": {
  "kernelspec": {
   "display_name": "Python 3",
   "language": "python",
   "name": "python3"
  },
  "language_info": {
   "codemirror_mode": {
    "name": "ipython",
    "version": 3
   },
   "file_extension": ".py",
   "mimetype": "text/x-python",
   "name": "python",
   "nbconvert_exporter": "python",
   "pygments_lexer": "ipython3",
   "version": "3.12.1"
  }
 },
 "nbformat": 4,
 "nbformat_minor": 2
}
