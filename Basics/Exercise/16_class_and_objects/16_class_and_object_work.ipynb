{
 "cells": [
  {
   "cell_type": "code",
   "execution_count": 6,
   "metadata": {},
   "outputs": [
    {
     "name": "stdout",
     "output_type": "stream",
     "text": [
      "ID: 1 \n",
      "Name: John\n",
      "id is not found\n",
      "p1 is not displayed\n"
     ]
    }
   ],
   "source": [
    "class Employee:\n",
    "    def __init__(self, id, name):\n",
    "        self.name = name\n",
    "        self.id = id\n",
    "    def display(self):\n",
    "        print(f\"ID: {self.id} \\nName: {self.name}\")\n",
    "\n",
    "p1 = Employee(1, \"John\")\n",
    "p1.display()\n",
    "del p1.id\n",
    "\n",
    "try:\n",
    "    print(p1.id)\n",
    "except AttributeError:\n",
    "    print(\"id is not found\")\n",
    "\n",
    "del p1\n",
    "try:\n",
    "    p1.display\n",
    "except NameError:\n",
    "    print(\"p1 is not displayed\")"
   ]
  }
 ],
 "metadata": {
  "kernelspec": {
   "display_name": "Python 3",
   "language": "python",
   "name": "python3"
  },
  "language_info": {
   "codemirror_mode": {
    "name": "ipython",
    "version": 3
   },
   "file_extension": ".py",
   "mimetype": "text/x-python",
   "name": "python",
   "nbconvert_exporter": "python",
   "pygments_lexer": "ipython3",
   "version": "3.12.1"
  }
 },
 "nbformat": 4,
 "nbformat_minor": 2
}
