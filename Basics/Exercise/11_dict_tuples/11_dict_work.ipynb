{
 "cells": [
  {
   "cell_type": "code",
   "execution_count": 8,
   "metadata": {},
   "outputs": [
    {
     "name": "stdout",
     "output_type": "stream",
     "text": [
      "136\n"
     ]
    }
   ],
   "source": [
    "d = {\n",
    "    \"china\": 143,\n",
    "    \"india\": 136,\n",
    "    \"usa\": 32,\n",
    "    \"pakistan\": 21\n",
    "}\n",
    "\n",
    "user_input = input(\"Choose between print, add, remove, and query\")\n",
    "if user_input == \"print\":\n",
    "    for key in d:\n",
    "        print(f\"{key}==>{d[key]}\")\n",
    "elif user_input == \"add\":\n",
    "    country_name = input(\"What country do you want to add?\")\n",
    "    country_found = False\n",
    "    for key in d:\n",
    "        if country_name == key:\n",
    "            print(\"Country already exists\")\n",
    "            country_found = True\n",
    "            break\n",
    "        else:\n",
    "            continue\n",
    "    if country_found == False:\n",
    "        population = int(input(\"Enter population of country\"))\n",
    "        d[country_name] = population\n",
    "    for key in d:\n",
    "        print(f\"{key}==>{d[key]}\")\n",
    "elif user_input == \"remove\":\n",
    "    remove_country = input(\"What country do you want to remove?\")\n",
    "    for key in d:\n",
    "        if remove_country == key:\n",
    "            del d[key]\n",
    "            break\n",
    "    for key in d:\n",
    "        print(f\"{key}==>{d[key]}\")\n",
    "elif user_input == \"query\":\n",
    "    ask_country = input(\"Which country do you want to query?\")\n",
    "    for key in d:\n",
    "        if ask_country == key:\n",
    "            print(d[key])\n",
    "            break\n",
    "        else:\n",
    "            continue\n",
    "    \n"
   ]
  },
  {
   "cell_type": "code",
   "execution_count": 14,
   "metadata": {},
   "outputs": [
    {
     "name": "stdout",
     "output_type": "stream",
     "text": [
      "info ==> [600, 630, 620]\n",
      "ril ==> [1430, 1490, 1567]\n",
      "mtl ==> [234, 180, 160]\n",
      "jol ==> [900]\n"
     ]
    }
   ],
   "source": [
    "def average_of_list(list):\n",
    "    sum = 0\n",
    "    for i in list:\n",
    "        sum += i \n",
    "    avg = sum/len(list)\n",
    "    return avg\n",
    "\n",
    "stocks = {\n",
    "    \"info\": [600,630,620],\n",
    "    \"ril\": [1430,1490,1567],\n",
    "    \"mtl\": [234,180,160]\n",
    "}\n",
    "\n",
    "operation = input(\"What operation do you want to do?\")\n",
    "\n",
    "if operation == \"print\":\n",
    "    for k in stocks:\n",
    "        print(f\"{k} ==> {stocks[k]} ==> avg: {average_of_list(stocks[k])}\")\n",
    "elif operation == \"add\":\n",
    "    new_stock = input(\"What stock do you want to add?\")\n",
    "    new_price = int(input(\"What price do you want to add?\"))\n",
    "    stock_found = False\n",
    "    for i in stocks:\n",
    "        if new_stock == i:\n",
    "            stock_found = True\n",
    "            stocks[new_stock].append(new_price)\n",
    "        else:\n",
    "            continue\n",
    "    if stock_found == False:\n",
    "        stocks[new_stock] = [new_price]\n",
    "    for k in stocks:\n",
    "        print(f\"{k} ==> {stocks[k]}\")\n",
    "\n",
    "\n",
    "\n",
    "\n"
   ]
  },
  {
   "cell_type": "code",
   "execution_count": 15,
   "metadata": {},
   "outputs": [
    {
     "name": "stdout",
     "output_type": "stream",
     "text": [
      "{'area': 12.566370614359172, 'circumference': 12.566370614359172, 'diameter': 4}\n"
     ]
    }
   ],
   "source": [
    "import math\n",
    "\n",
    "def circle_calc(radius):\n",
    "    area = math.pi*(radius**2)\n",
    "    circumference = 2*math.pi*radius\n",
    "    diameter = 2*radius\n",
    "    answer = {\n",
    "        \"area\": area,\n",
    "        \"circumference\": circumference,\n",
    "        \"diameter\": diameter\n",
    "    }\n",
    "    return answer\n",
    "\n",
    "print(circle_calc(2))"
   ]
  }
 ],
 "metadata": {
  "kernelspec": {
   "display_name": "Python 3",
   "language": "python",
   "name": "python3"
  },
  "language_info": {
   "codemirror_mode": {
    "name": "ipython",
    "version": 3
   },
   "file_extension": ".py",
   "mimetype": "text/x-python",
   "name": "python",
   "nbconvert_exporter": "python",
   "pygments_lexer": "ipython3",
   "version": "3.12.1"
  }
 },
 "nbformat": 4,
 "nbformat_minor": 2
}
